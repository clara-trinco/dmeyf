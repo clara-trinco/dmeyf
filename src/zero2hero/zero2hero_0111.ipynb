{
 "cells": [
  {
   "cell_type": "markdown",
   "metadata": {},
   "source": [
    "# Zero to Hero"
   ]
  },
  {
   "cell_type": "markdown",
   "metadata": {},
   "source": [
    "## 1.11 Arbol training/testing"
   ]
  },
  {
   "cell_type": "markdown",
   "metadata": {},
   "source": [
    "El objetivo es calcular la ganancia en testing de un arbol de decision"
   ]
  },
  {
   "cell_type": "code",
   "execution_count": 2,
   "metadata": {},
   "outputs": [
    {
     "data": {
      "text/html": [
       "<table class=\"dataframe\">\n",
       "<caption>A matrix: 2 × 7 of type dbl</caption>\n",
       "<thead>\n",
       "\t<tr><th></th><th scope=col>used</th><th scope=col>(Mb)</th><th scope=col>gc trigger</th><th scope=col>(Mb)</th><th scope=col>limit (Mb)</th><th scope=col>max used</th><th scope=col>(Mb)</th></tr>\n",
       "</thead>\n",
       "<tbody>\n",
       "\t<tr><th scope=row>Ncells</th><td> 580048</td><td>31.0</td><td>1247334</td><td>66.7</td><td>   NA</td><td>1156650</td><td>61.8</td></tr>\n",
       "\t<tr><th scope=row>Vcells</th><td>1090860</td><td> 8.4</td><td>8388608</td><td>64.0</td><td>16384</td><td>1823845</td><td>14.0</td></tr>\n",
       "</tbody>\n",
       "</table>\n"
      ],
      "text/latex": [
       "A matrix: 2 × 7 of type dbl\n",
       "\\begin{tabular}{r|lllllll}\n",
       "  & used & (Mb) & gc trigger & (Mb) & limit (Mb) & max used & (Mb)\\\\\n",
       "\\hline\n",
       "\tNcells &  580048 & 31.0 & 1247334 & 66.7 &    NA & 1156650 & 61.8\\\\\n",
       "\tVcells & 1090860 &  8.4 & 8388608 & 64.0 & 16384 & 1823845 & 14.0\\\\\n",
       "\\end{tabular}\n"
      ],
      "text/markdown": [
       "\n",
       "A matrix: 2 × 7 of type dbl\n",
       "\n",
       "| <!--/--> | used | (Mb) | gc trigger | (Mb) | limit (Mb) | max used | (Mb) |\n",
       "|---|---|---|---|---|---|---|---|\n",
       "| Ncells |  580048 | 31.0 | 1247334 | 66.7 |    NA | 1156650 | 61.8 |\n",
       "| Vcells | 1090860 |  8.4 | 8388608 | 64.0 | 16384 | 1823845 | 14.0 |\n",
       "\n"
      ],
      "text/plain": [
       "       used    (Mb) gc trigger (Mb) limit (Mb) max used (Mb)\n",
       "Ncells  580048 31.0 1247334    66.7    NA      1156650  61.8\n",
       "Vcells 1090860  8.4 8388608    64.0 16384      1823845  14.0"
      ]
     },
     "metadata": {},
     "output_type": "display_data"
    },
    {
     "name": "stderr",
     "output_type": "stream",
     "text": [
      "Loading required package: lattice\n",
      "\n",
      "Loading required package: ggplot2\n",
      "\n"
     ]
    }
   ],
   "source": [
    "rm( list=ls())\n",
    "gc()\n",
    "\n",
    "library( \"data.table\")   #cargo la libreria  data.table\n",
    "library( \"rpart\")  #cargo la libreria  rpart\n",
    "library( \"rpart.plot\")\n",
    "library(\"caret\")\n",
    "\n",
    "options(repr.plot.width=20, repr.plot.height=10) \n",
    "setwd(\"/Users/clara/Documents/00-Posgrado/4_DM_Eco_y_Finanzas/\")  #Aqui se debe poner la ruta de la PC local"
   ]
  },
  {
   "cell_type": "code",
   "execution_count": 7,
   "metadata": {},
   "outputs": [
    {
     "data": {
      "text/html": [
       "<table class=\"dataframe\">\n",
       "<caption>A data.table: 6 × 158</caption>\n",
       "<thead>\n",
       "\t<tr><th scope=col>numero_de_cliente</th><th scope=col>foto_mes</th><th scope=col>active_quarter</th><th scope=col>cliente_vip</th><th scope=col>internet</th><th scope=col>cliente_edad</th><th scope=col>cliente_antiguedad</th><th scope=col>mrentabilidad</th><th scope=col>mrentabilidad_annual</th><th scope=col>mcomisiones</th><th scope=col>⋯</th><th scope=col>Visa_fultimo_cierre</th><th scope=col>Visa_mpagado</th><th scope=col>Visa_mpagospesos</th><th scope=col>Visa_mpagosdolares</th><th scope=col>Visa_fechaalta</th><th scope=col>Visa_mconsumototal</th><th scope=col>Visa_cconsumos</th><th scope=col>Visa_cadelantosefectivo</th><th scope=col>Visa_mpagominimo</th><th scope=col>clase_ternaria</th></tr>\n",
       "\t<tr><th scope=col>&lt;int&gt;</th><th scope=col>&lt;int&gt;</th><th scope=col>&lt;int&gt;</th><th scope=col>&lt;int&gt;</th><th scope=col>&lt;int&gt;</th><th scope=col>&lt;int&gt;</th><th scope=col>&lt;int&gt;</th><th scope=col>&lt;dbl&gt;</th><th scope=col>&lt;dbl&gt;</th><th scope=col>&lt;dbl&gt;</th><th scope=col>⋯</th><th scope=col>&lt;int&gt;</th><th scope=col>&lt;dbl&gt;</th><th scope=col>&lt;dbl&gt;</th><th scope=col>&lt;dbl&gt;</th><th scope=col>&lt;int&gt;</th><th scope=col>&lt;dbl&gt;</th><th scope=col>&lt;int&gt;</th><th scope=col>&lt;int&gt;</th><th scope=col>&lt;dbl&gt;</th><th scope=col>&lt;lgl&gt;</th></tr>\n",
       "</thead>\n",
       "<tbody>\n",
       "\t<tr><td>4572294</td><td>202011</td><td>1</td><td>0</td><td>0</td><td>46</td><td> 91</td><td> 1829.57</td><td>  8776.24</td><td> 330.96</td><td>⋯</td><td>5</td><td>0</td><td>-30785.09</td><td>22.89</td><td>2752</td><td> 1966.41</td><td> 4</td><td>0</td><td> 8318.7</td><td>NA</td></tr>\n",
       "\t<tr><td>4572366</td><td>202011</td><td>1</td><td>0</td><td>0</td><td>48</td><td>200</td><td> -810.10</td><td> 39016.56</td><td> 293.35</td><td>⋯</td><td>5</td><td>0</td><td>-25389.00</td><td> 0.00</td><td>3424</td><td> 2473.26</td><td> 5</td><td>0</td><td>18263.7</td><td>NA</td></tr>\n",
       "\t<tr><td>4572633</td><td>202011</td><td>1</td><td>0</td><td>0</td><td>56</td><td>126</td><td>28081.94</td><td>350084.12</td><td>3037.83</td><td>⋯</td><td>5</td><td>0</td><td>-92330.79</td><td> 0.00</td><td>3767</td><td>49619.75</td><td>15</td><td>0</td><td> 4527.9</td><td>NA</td></tr>\n",
       "\t<tr><td>4572728</td><td>202011</td><td>1</td><td>0</td><td>0</td><td>56</td><td>274</td><td> -348.43</td><td>  6001.98</td><td> 200.19</td><td>⋯</td><td>5</td><td>0</td><td>-19574.32</td><td> 0.00</td><td>5013</td><td>21451.54</td><td> 6</td><td>0</td><td> 1041.3</td><td>NA</td></tr>\n",
       "\t<tr><td>4572765</td><td>202011</td><td>1</td><td>0</td><td>0</td><td>50</td><td>301</td><td> 3940.74</td><td> 34861.95</td><td>2609.04</td><td>⋯</td><td>5</td><td>0</td><td>-18382.02</td><td> 0.00</td><td>2127</td><td>    0.00</td><td> 0</td><td>0</td><td> 1684.8</td><td>NA</td></tr>\n",
       "\t<tr><td>4572913</td><td>202011</td><td>1</td><td>0</td><td>0</td><td>46</td><td>271</td><td>11845.15</td><td>110847.64</td><td>1360.30</td><td>⋯</td><td>5</td><td>0</td><td> -5905.90</td><td> 0.00</td><td>2001</td><td> 2289.44</td><td> 2</td><td>0</td><td> 1544.4</td><td>NA</td></tr>\n",
       "</tbody>\n",
       "</table>\n"
      ],
      "text/latex": [
       "A data.table: 6 × 158\n",
       "\\begin{tabular}{lllllllllllllllllllll}\n",
       " numero\\_de\\_cliente & foto\\_mes & active\\_quarter & cliente\\_vip & internet & cliente\\_edad & cliente\\_antiguedad & mrentabilidad & mrentabilidad\\_annual & mcomisiones & ⋯ & Visa\\_fultimo\\_cierre & Visa\\_mpagado & Visa\\_mpagospesos & Visa\\_mpagosdolares & Visa\\_fechaalta & Visa\\_mconsumototal & Visa\\_cconsumos & Visa\\_cadelantosefectivo & Visa\\_mpagominimo & clase\\_ternaria\\\\\n",
       " <int> & <int> & <int> & <int> & <int> & <int> & <int> & <dbl> & <dbl> & <dbl> & ⋯ & <int> & <dbl> & <dbl> & <dbl> & <int> & <dbl> & <int> & <int> & <dbl> & <lgl>\\\\\n",
       "\\hline\n",
       "\t 4572294 & 202011 & 1 & 0 & 0 & 46 &  91 &  1829.57 &   8776.24 &  330.96 & ⋯ & 5 & 0 & -30785.09 & 22.89 & 2752 &  1966.41 &  4 & 0 &  8318.7 & NA\\\\\n",
       "\t 4572366 & 202011 & 1 & 0 & 0 & 48 & 200 &  -810.10 &  39016.56 &  293.35 & ⋯ & 5 & 0 & -25389.00 &  0.00 & 3424 &  2473.26 &  5 & 0 & 18263.7 & NA\\\\\n",
       "\t 4572633 & 202011 & 1 & 0 & 0 & 56 & 126 & 28081.94 & 350084.12 & 3037.83 & ⋯ & 5 & 0 & -92330.79 &  0.00 & 3767 & 49619.75 & 15 & 0 &  4527.9 & NA\\\\\n",
       "\t 4572728 & 202011 & 1 & 0 & 0 & 56 & 274 &  -348.43 &   6001.98 &  200.19 & ⋯ & 5 & 0 & -19574.32 &  0.00 & 5013 & 21451.54 &  6 & 0 &  1041.3 & NA\\\\\n",
       "\t 4572765 & 202011 & 1 & 0 & 0 & 50 & 301 &  3940.74 &  34861.95 & 2609.04 & ⋯ & 5 & 0 & -18382.02 &  0.00 & 2127 &     0.00 &  0 & 0 &  1684.8 & NA\\\\\n",
       "\t 4572913 & 202011 & 1 & 0 & 0 & 46 & 271 & 11845.15 & 110847.64 & 1360.30 & ⋯ & 5 & 0 &  -5905.90 &  0.00 & 2001 &  2289.44 &  2 & 0 &  1544.4 & NA\\\\\n",
       "\\end{tabular}\n"
      ],
      "text/markdown": [
       "\n",
       "A data.table: 6 × 158\n",
       "\n",
       "| numero_de_cliente &lt;int&gt; | foto_mes &lt;int&gt; | active_quarter &lt;int&gt; | cliente_vip &lt;int&gt; | internet &lt;int&gt; | cliente_edad &lt;int&gt; | cliente_antiguedad &lt;int&gt; | mrentabilidad &lt;dbl&gt; | mrentabilidad_annual &lt;dbl&gt; | mcomisiones &lt;dbl&gt; | ⋯ ⋯ | Visa_fultimo_cierre &lt;int&gt; | Visa_mpagado &lt;dbl&gt; | Visa_mpagospesos &lt;dbl&gt; | Visa_mpagosdolares &lt;dbl&gt; | Visa_fechaalta &lt;int&gt; | Visa_mconsumototal &lt;dbl&gt; | Visa_cconsumos &lt;int&gt; | Visa_cadelantosefectivo &lt;int&gt; | Visa_mpagominimo &lt;dbl&gt; | clase_ternaria &lt;lgl&gt; |\n",
       "|---|---|---|---|---|---|---|---|---|---|---|---|---|---|---|---|---|---|---|---|---|\n",
       "| 4572294 | 202011 | 1 | 0 | 0 | 46 |  91 |  1829.57 |   8776.24 |  330.96 | ⋯ | 5 | 0 | -30785.09 | 22.89 | 2752 |  1966.41 |  4 | 0 |  8318.7 | NA |\n",
       "| 4572366 | 202011 | 1 | 0 | 0 | 48 | 200 |  -810.10 |  39016.56 |  293.35 | ⋯ | 5 | 0 | -25389.00 |  0.00 | 3424 |  2473.26 |  5 | 0 | 18263.7 | NA |\n",
       "| 4572633 | 202011 | 1 | 0 | 0 | 56 | 126 | 28081.94 | 350084.12 | 3037.83 | ⋯ | 5 | 0 | -92330.79 |  0.00 | 3767 | 49619.75 | 15 | 0 |  4527.9 | NA |\n",
       "| 4572728 | 202011 | 1 | 0 | 0 | 56 | 274 |  -348.43 |   6001.98 |  200.19 | ⋯ | 5 | 0 | -19574.32 |  0.00 | 5013 | 21451.54 |  6 | 0 |  1041.3 | NA |\n",
       "| 4572765 | 202011 | 1 | 0 | 0 | 50 | 301 |  3940.74 |  34861.95 | 2609.04 | ⋯ | 5 | 0 | -18382.02 |  0.00 | 2127 |     0.00 |  0 | 0 |  1684.8 | NA |\n",
       "| 4572913 | 202011 | 1 | 0 | 0 | 46 | 271 | 11845.15 | 110847.64 | 1360.30 | ⋯ | 5 | 0 |  -5905.90 |  0.00 | 2001 |  2289.44 |  2 | 0 |  1544.4 | NA |\n",
       "\n"
      ],
      "text/plain": [
       "  numero_de_cliente foto_mes active_quarter cliente_vip internet cliente_edad\n",
       "1 4572294           202011   1              0           0        46          \n",
       "2 4572366           202011   1              0           0        48          \n",
       "3 4572633           202011   1              0           0        56          \n",
       "4 4572728           202011   1              0           0        56          \n",
       "5 4572765           202011   1              0           0        50          \n",
       "6 4572913           202011   1              0           0        46          \n",
       "  cliente_antiguedad mrentabilidad mrentabilidad_annual mcomisiones ⋯\n",
       "1  91                 1829.57        8776.24             330.96     ⋯\n",
       "2 200                 -810.10       39016.56             293.35     ⋯\n",
       "3 126                28081.94      350084.12            3037.83     ⋯\n",
       "4 274                 -348.43        6001.98             200.19     ⋯\n",
       "5 301                 3940.74       34861.95            2609.04     ⋯\n",
       "6 271                11845.15      110847.64            1360.30     ⋯\n",
       "  Visa_fultimo_cierre Visa_mpagado Visa_mpagospesos Visa_mpagosdolares\n",
       "1 5                   0            -30785.09        22.89             \n",
       "2 5                   0            -25389.00         0.00             \n",
       "3 5                   0            -92330.79         0.00             \n",
       "4 5                   0            -19574.32         0.00             \n",
       "5 5                   0            -18382.02         0.00             \n",
       "6 5                   0             -5905.90         0.00             \n",
       "  Visa_fechaalta Visa_mconsumototal Visa_cconsumos Visa_cadelantosefectivo\n",
       "1 2752            1966.41            4             0                      \n",
       "2 3424            2473.26            5             0                      \n",
       "3 3767           49619.75           15             0                      \n",
       "4 5013           21451.54            6             0                      \n",
       "5 2127               0.00            0             0                      \n",
       "6 2001            2289.44            2             0                      \n",
       "  Visa_mpagominimo clase_ternaria\n",
       "1  8318.7          NA            \n",
       "2 18263.7          NA            \n",
       "3  4527.9          NA            \n",
       "4  1041.3          NA            \n",
       "5  1684.8          NA            \n",
       "6  1544.4          NA            "
      ]
     },
     "metadata": {},
     "output_type": "display_data"
    }
   ],
   "source": [
    "dataset <- data.table::fread(\"./datasetsOri/paquete_premium_202011.csv\")   #cargo el dataset\n",
    "head(dataset)"
   ]
  },
  {
   "cell_type": "code",
   "execution_count": 8,
   "metadata": {},
   "outputs": [],
   "source": [
    "#creo training con 70%  y testing con 30%\n",
    "set.seed(13)\n",
    "train_rows <- createDataPartition(dataset$clase_ternaria, p= 0.70,list= FALSE)\n",
    "dtrain  <- dataset[ train_rows]\n",
    "dtest  <-  dataset[ -train_rows]"
   ]
  },
  {
   "cell_type": "markdown",
   "metadata": {},
   "source": [
    "Entreno el modelo en los datos de training"
   ]
  },
  {
   "cell_type": "code",
   "execution_count": 10,
   "metadata": {},
   "outputs": [],
   "source": [
    "param  <- list(\"cp\"= -0.5,\n",
    "               \"minsplit\"=  900,\n",
    "               \"minbucket\"= 440,\n",
    "               \"maxdepth\"= 5\n",
    "              )"
   ]
  },
  {
   "cell_type": "markdown",
   "metadata": {},
   "source": [
    "Entreno el modelo en los datos de training"
   ]
  },
  {
   "cell_type": "code",
   "execution_count": 11,
   "metadata": {},
   "outputs": [],
   "source": [
    "#genero el modelo\n",
    "modelo <-  rpart::rpart(formula= \"clase_ternaria ~ .\" ,\n",
    "                        data= dtrain,\n",
    "                        xval= 0,\n",
    "                        control= param)"
   ]
  },
  {
   "cell_type": "markdown",
   "metadata": {},
   "source": [
    "aplico el modelo a los datos de testing"
   ]
  },
  {
   "cell_type": "code",
   "execution_count": 12,
   "metadata": {},
   "outputs": [
    {
     "ename": "ERROR",
     "evalue": "Error in predict.rpart(modelo, dtest, type = \"prob\"): Invalid prediction for \"rpart\" object\n",
     "output_type": "error",
     "traceback": [
      "Error in predict.rpart(modelo, dtest, type = \"prob\"): Invalid prediction for \"rpart\" object\nTraceback:\n",
      "1. predict(modelo, dtest, type = \"prob\")",
      "2. predict.rpart(modelo, dtest, type = \"prob\")",
      "3. stop(\"Invalid prediction for \\\"rpart\\\" object\")"
     ]
    }
   ],
   "source": [
    "prediccion  <- predict( modelo, dtest, type = \"prob\")"
   ]
  },
  {
   "cell_type": "markdown",
   "metadata": {},
   "source": [
    "### Calculo la ganancia del modelo en los datos de testing"
   ]
  },
  {
   "cell_type": "markdown",
   "metadata": {},
   "source": [
    "a partir de la prediccion, calculo la probabilidad de BAJA+2 de cada registro de testing  **dtest**"
   ]
  },
  {
   "cell_type": "code",
   "execution_count": 13,
   "metadata": {},
   "outputs": [
    {
     "ename": "ERROR",
     "evalue": "Error in eval(expr, envir, enclos): object 'prediccion' not found\n",
     "output_type": "error",
     "traceback": [
      "Error in eval(expr, envir, enclos): object 'prediccion' not found\nTraceback:\n"
     ]
    }
   ],
   "source": [
    "prob_baja2  <- prediccion[, \"BAJA+2\"]"
   ]
  },
  {
   "cell_type": "markdown",
   "metadata": {},
   "source": [
    "Para el cálculo de la ganancia del modelo aplicado a testing debo tener en cuenta lo siguiente\n",
    "* Solo envio estimulo a los registros que el modelo asigno una probabilidad mayor a 0.025\n",
    "* Si no envio estimulo, no gano ni pierdo, es decir la ganacia es cero\n",
    "* Si el registro al que envio el estímulo es un **BAJA+2**  entonces la ganancia es de +48750\n",
    "* Si el registro al que envio el estímulo es un **BAJA+1**  entonces la ganancia es de  -1250\n",
    "* Si el registro al que envio el estímulo es un **CONTINUA** entonces la ganancia es de  -1250"
   ]
  },
  {
   "cell_type": "markdown",
   "metadata": {},
   "source": [
    "A la condición que solo envio a los registros con probabilidad mayor a 0.025 la resuelvo con la condicion lógica  (prob_baja2>0.025)\n",
    "<br>\n",
    "Esta condicion termina siendo un 0 o un 1\n",
    "<br>\n",
    "vale 1 si y solo si se cumple la condicion, es decir  si prob_baja2 es mayor a 0.025"
   ]
  },
  {
   "cell_type": "markdown",
   "metadata": {},
   "source": [
    "La ganancia de +48750 o -1250 la resuelvo de esta forma ifelse( clase_ternaria==\"BAJA+2\", 48750, -1250)"
   ]
  },
  {
   "cell_type": "markdown",
   "metadata": {},
   "source": [
    "Finalmente,  que se cumplan ambas condiciones al mismo tiempo, en este caso, es multiplicarlas, o sea\n",
    "<br>\n",
    "(prob_baja2>0.025) * ifelse( clase_ternaria==\"BAJA+2\", 48750, -1250)\n",
    "<br>\n",
    "La condicion anterior toma los siguientes valores"
   ]
  },
  {
   "cell_type": "markdown",
   "metadata": {},
   "source": [
    "| prob(BAJA+2) | clase_ternaria | ganancia |\n",
    "| --- | :---: | ---: |\n",
    "| menor o igual a 0.025 | BAJA+1 | 0 |\n",
    "| menor o igual a 0.025 | CONTINUA | 0 |\n",
    "| menor o igual a 0.025 | BAJA+2 | 0 |\n",
    "| mayor a 0.025 | BAJA+1 | -1250 |\n",
    "| mayor a 0.025 | CONTINUA | -1250 |\n",
    "| mayor a 0.025 | BAJA+2 | 48750 |\n"
   ]
  },
  {
   "cell_type": "markdown",
   "metadata": {},
   "source": [
    "Finalmente hago el calculo en data.table"
   ]
  },
  {
   "cell_type": "code",
   "execution_count": 8,
   "metadata": {},
   "outputs": [],
   "source": [
    "ganancia_testing <- dtest[ , sum(  (prob_baja2>0.025) * ifelse( clase_ternaria==\"BAJA+2\", 48750, -1250) )]"
   ]
  },
  {
   "cell_type": "code",
   "execution_count": 9,
   "metadata": {},
   "outputs": [
    {
     "data": {
      "text/html": [
       "2142500"
      ],
      "text/latex": [
       "2142500"
      ],
      "text/markdown": [
       "2142500"
      ],
      "text/plain": [
       "[1] 2142500"
      ]
     },
     "metadata": {},
     "output_type": "display_data"
    }
   ],
   "source": [
    "ganancia_testing"
   ]
  },
  {
   "cell_type": "markdown",
   "metadata": {},
   "source": [
    "Es importante que la ganancia esta calculada sobre los datos de testing, que en este caso son apenas el 30%\n",
    "<br>\n",
    "Si quiero extrapolar a todo el dataset, debo hacer el cociente de esa ganancia por 0.30"
   ]
  },
  {
   "cell_type": "code",
   "execution_count": 10,
   "metadata": {},
   "outputs": [],
   "source": [
    "ganancia_testing_normalizada  <-  ganancia_testing/0.3"
   ]
  },
  {
   "cell_type": "code",
   "execution_count": 11,
   "metadata": {},
   "outputs": [
    {
     "data": {
      "text/html": [
       "7141666.66666667"
      ],
      "text/latex": [
       "7141666.66666667"
      ],
      "text/markdown": [
       "7141666.66666667"
      ],
      "text/plain": [
       "[1] 7141667"
      ]
     },
     "metadata": {},
     "output_type": "display_data"
    }
   ],
   "source": [
    "ganancia_testing_normalizada"
   ]
  },
  {
   "cell_type": "code",
   "execution_count": null,
   "metadata": {},
   "outputs": [],
   "source": []
  }
 ],
 "metadata": {
  "kernelspec": {
   "display_name": "R",
   "language": "R",
   "name": "ir"
  },
  "language_info": {
   "codemirror_mode": "r",
   "file_extension": ".r",
   "mimetype": "text/x-r-source",
   "name": "R",
   "pygments_lexer": "r",
   "version": "4.1.1"
  }
 },
 "nbformat": 4,
 "nbformat_minor": 4
}
